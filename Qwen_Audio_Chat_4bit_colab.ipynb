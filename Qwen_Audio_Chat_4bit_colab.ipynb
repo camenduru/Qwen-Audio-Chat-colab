{
  "cells": [
    {
      "cell_type": "markdown",
      "metadata": {
        "id": "view-in-github"
      },
      "source": [
        "[![Open In Colab](https://colab.research.google.com/assets/colab-badge.svg)](https://colab.research.google.com/github/camenduru/Qwen-Audio-Chat-colab/blob/main/Qwen_Audio_Chat_4bit_colab.ipynb)"
      ]
    },
    {
      "cell_type": "code",
      "execution_count": null,
      "metadata": {
        "id": "VjYy0F2gZIPR"
      },
      "outputs": [],
      "source": [
        "%cd /content\n",
        "!git clone -b 4bit https://github.com/camenduru/Qwen-Audio\n",
        "%cd /content/Qwen-Audio\n",
        "!pip install -q tiktoken einops transformers_stream_generator accelerate bitsandbytes gradio==4.7.1\n",
        "\n",
        "!python web_demo_audio.py --share"
      ]
    }
  ],
  "metadata": {
    "accelerator": "GPU",
    "colab": {
      "gpuType": "T4",
      "provenance": []
    },
    "kernelspec": {
      "display_name": "Python 3",
      "name": "python3"
    },
    "language_info": {
      "name": "python"
    }
  },
  "nbformat": 4,
  "nbformat_minor": 0
}
